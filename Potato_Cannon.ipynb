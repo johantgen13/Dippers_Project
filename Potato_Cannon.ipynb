{
 "cells": [
  {
   "cell_type": "markdown",
   "metadata": {},
   "source": [
    "This is the Potato Cannon. It's intended use is to test Potato"
   ]
  },
  {
   "cell_type": "code",
   "execution_count": 1,
   "metadata": {},
   "outputs": [],
   "source": [
    "from Potato import read_lightcurve\n",
    "from Potato import LocateLC\n",
    "from Potato import search\n",
    "from Potato import find_dip\n",
    "from Potato import find_dipDF\n",
    "from Potato import camparam\n",
    "from Potato import box\n",
    "from Potato import camfilter\n",
    "from Potato import camfilter2\n",
    "from Potato import plot_dip\n",
    "from Potato import plot_zoom\n",
    "from Potato import period\n",
    "from Potato import phase"
   ]
  },
  {
   "cell_type": "code",
   "execution_count": 2,
   "metadata": {},
   "outputs": [],
   "source": [
    "asasnum = 609886184506"
   ]
  },
  {
   "cell_type": "code",
   "execution_count": 3,
   "metadata": {},
   "outputs": [
    {
     "data": {
      "text/html": [
       "<div>\n",
       "<style scoped>\n",
       "    .dataframe tbody tr th:only-of-type {\n",
       "        vertical-align: middle;\n",
       "    }\n",
       "\n",
       "    .dataframe tbody tr th {\n",
       "        vertical-align: top;\n",
       "    }\n",
       "\n",
       "    .dataframe thead th {\n",
       "        text-align: right;\n",
       "    }\n",
       "</style>\n",
       "<table border=\"1\" class=\"dataframe\">\n",
       "  <thead>\n",
       "    <tr style=\"text-align: right;\">\n",
       "      <th></th>\n",
       "      <th>JD</th>\n",
       "      <th>Mag</th>\n",
       "      <th>Mag_err</th>\n",
       "      <th>Quality</th>\n",
       "      <th>Cam_number</th>\n",
       "      <th>Phot_filter</th>\n",
       "      <th>Camera</th>\n",
       "    </tr>\n",
       "  </thead>\n",
       "  <tbody>\n",
       "    <tr>\n",
       "      <th>0</th>\n",
       "      <td>2.458177e+06</td>\n",
       "      <td>12.946180</td>\n",
       "      <td>0.01</td>\n",
       "      <td>1</td>\n",
       "      <td>2</td>\n",
       "      <td>0</td>\n",
       "      <td>bj</td>\n",
       "    </tr>\n",
       "    <tr>\n",
       "      <th>1</th>\n",
       "      <td>2.458283e+06</td>\n",
       "      <td>12.922774</td>\n",
       "      <td>0.01</td>\n",
       "      <td>1</td>\n",
       "      <td>2</td>\n",
       "      <td>0</td>\n",
       "      <td>bj</td>\n",
       "    </tr>\n",
       "    <tr>\n",
       "      <th>2</th>\n",
       "      <td>2.458285e+06</td>\n",
       "      <td>12.937309</td>\n",
       "      <td>0.01</td>\n",
       "      <td>1</td>\n",
       "      <td>2</td>\n",
       "      <td>0</td>\n",
       "      <td>bj</td>\n",
       "    </tr>\n",
       "    <tr>\n",
       "      <th>3</th>\n",
       "      <td>2.458302e+06</td>\n",
       "      <td>12.949830</td>\n",
       "      <td>0.01</td>\n",
       "      <td>1</td>\n",
       "      <td>2</td>\n",
       "      <td>0</td>\n",
       "      <td>bj</td>\n",
       "    </tr>\n",
       "    <tr>\n",
       "      <th>4</th>\n",
       "      <td>2.458304e+06</td>\n",
       "      <td>12.918662</td>\n",
       "      <td>0.01</td>\n",
       "      <td>1</td>\n",
       "      <td>3</td>\n",
       "      <td>0</td>\n",
       "      <td>bi</td>\n",
       "    </tr>\n",
       "    <tr>\n",
       "      <th>...</th>\n",
       "      <td>...</td>\n",
       "      <td>...</td>\n",
       "      <td>...</td>\n",
       "      <td>...</td>\n",
       "      <td>...</td>\n",
       "      <td>...</td>\n",
       "      <td>...</td>\n",
       "    </tr>\n",
       "    <tr>\n",
       "      <th>1815</th>\n",
       "      <td>2.460450e+06</td>\n",
       "      <td>13.009451</td>\n",
       "      <td>0.01</td>\n",
       "      <td>1</td>\n",
       "      <td>5</td>\n",
       "      <td>0</td>\n",
       "      <td>bF</td>\n",
       "    </tr>\n",
       "    <tr>\n",
       "      <th>1816</th>\n",
       "      <td>2.460452e+06</td>\n",
       "      <td>13.031877</td>\n",
       "      <td>0.01</td>\n",
       "      <td>1</td>\n",
       "      <td>7</td>\n",
       "      <td>0</td>\n",
       "      <td>bn</td>\n",
       "    </tr>\n",
       "    <tr>\n",
       "      <th>1817</th>\n",
       "      <td>2.460456e+06</td>\n",
       "      <td>13.026974</td>\n",
       "      <td>0.01</td>\n",
       "      <td>1</td>\n",
       "      <td>5</td>\n",
       "      <td>0</td>\n",
       "      <td>bF</td>\n",
       "    </tr>\n",
       "    <tr>\n",
       "      <th>1818</th>\n",
       "      <td>2.460457e+06</td>\n",
       "      <td>13.067935</td>\n",
       "      <td>0.01</td>\n",
       "      <td>1</td>\n",
       "      <td>3</td>\n",
       "      <td>0</td>\n",
       "      <td>bi</td>\n",
       "    </tr>\n",
       "    <tr>\n",
       "      <th>1819</th>\n",
       "      <td>2.460458e+06</td>\n",
       "      <td>13.023061</td>\n",
       "      <td>0.01</td>\n",
       "      <td>1</td>\n",
       "      <td>3</td>\n",
       "      <td>0</td>\n",
       "      <td>bi</td>\n",
       "    </tr>\n",
       "  </tbody>\n",
       "</table>\n",
       "<p>1820 rows × 7 columns</p>\n",
       "</div>"
      ],
      "text/plain": [
       "                JD        Mag  Mag_err  Quality  Cam_number  Phot_filter  \\\n",
       "0     2.458177e+06  12.946180     0.01        1           2            0   \n",
       "1     2.458283e+06  12.922774     0.01        1           2            0   \n",
       "2     2.458285e+06  12.937309     0.01        1           2            0   \n",
       "3     2.458302e+06  12.949830     0.01        1           2            0   \n",
       "4     2.458304e+06  12.918662     0.01        1           3            0   \n",
       "...            ...        ...      ...      ...         ...          ...   \n",
       "1815  2.460450e+06  13.009451     0.01        1           5            0   \n",
       "1816  2.460452e+06  13.031877     0.01        1           7            0   \n",
       "1817  2.460456e+06  13.026974     0.01        1           5            0   \n",
       "1818  2.460457e+06  13.067935     0.01        1           3            0   \n",
       "1819  2.460458e+06  13.023061     0.01        1           3            0   \n",
       "\n",
       "     Camera  \n",
       "0        bj  \n",
       "1        bj  \n",
       "2        bj  \n",
       "3        bj  \n",
       "4        bi  \n",
       "...     ...  \n",
       "1815     bF  \n",
       "1816     bn  \n",
       "1817     bF  \n",
       "1818     bi  \n",
       "1819     bi  \n",
       "\n",
       "[1820 rows x 7 columns]"
      ]
     },
     "execution_count": 3,
     "metadata": {},
     "output_type": "execute_result"
    }
   ],
   "source": [
    "dfv, dfg = read_lightcurve(asasnum, guide='Updated_LC_data')\n",
    "dfg"
   ]
  },
  {
   "cell_type": "code",
   "execution_count": null,
   "metadata": {},
   "outputs": [],
   "source": [
    "#print(LocateLC('SURP2024/Test_Data/brayden_test_data'))"
   ]
  },
  {
   "cell_type": "code",
   "execution_count": null,
   "metadata": {},
   "outputs": [],
   "source": [
    "#print(search(377957919895, folder='SURP2024/Test_Data/brayden_test_data'))"
   ]
  },
  {
   "cell_type": "code",
   "execution_count": 4,
   "metadata": {},
   "outputs": [
    {
     "name": "stdout",
     "output_type": "stream",
     "text": [
      "[]\n",
      "{'peak_heights': array([], dtype=float64), 'prominences': array([], dtype=float64), 'left_bases': array([], dtype=int64), 'right_bases': array([], dtype=int64), 'widths': array([], dtype=float64), 'width_heights': array([], dtype=float64), 'left_ips': array([], dtype=float64), 'right_ips': array([], dtype=float64)}\n",
      "0\n"
     ]
    }
   ],
   "source": [
    "dfg, peak, prop, length = find_dip(asasnum, guide='Updated_LC_data')\n",
    "print(peak)\n",
    "print(prop)\n",
    "print(length)"
   ]
  },
  {
   "cell_type": "code",
   "execution_count": 5,
   "metadata": {},
   "outputs": [
    {
     "data": {
      "text/html": [
       "<div>\n",
       "<style scoped>\n",
       "    .dataframe tbody tr th:only-of-type {\n",
       "        vertical-align: middle;\n",
       "    }\n",
       "\n",
       "    .dataframe tbody tr th {\n",
       "        vertical-align: top;\n",
       "    }\n",
       "\n",
       "    .dataframe thead th {\n",
       "        text-align: right;\n",
       "    }\n",
       "</style>\n",
       "<table border=\"1\" class=\"dataframe\">\n",
       "  <thead>\n",
       "    <tr style=\"text-align: right;\">\n",
       "      <th></th>\n",
       "      <th>asas_sn_id</th>\n",
       "      <th>Number of dips</th>\n",
       "      <th>Average Magnitude</th>\n",
       "      <th>Standard Deviation of Magnitude</th>\n",
       "      <th>Lowest Dip</th>\n",
       "      <th>Difference of average and lowest dip</th>\n",
       "      <th>Time of Lowest Dip</th>\n",
       "      <th>Peaks per time</th>\n",
       "    </tr>\n",
       "  </thead>\n",
       "  <tbody>\n",
       "    <tr>\n",
       "      <th>0</th>\n",
       "      <td>609886184506</td>\n",
       "      <td>0</td>\n",
       "      <td>13.036088</td>\n",
       "      <td>0.076778</td>\n",
       "      <td>13.277183</td>\n",
       "      <td>0.241095</td>\n",
       "      <td>2.459688e+06</td>\n",
       "      <td>0.0</td>\n",
       "    </tr>\n",
       "  </tbody>\n",
       "</table>\n",
       "</div>"
      ],
      "text/plain": [
       "     asas_sn_id  Number of dips  Average Magnitude  \\\n",
       "0  609886184506               0          13.036088   \n",
       "\n",
       "   Standard Deviation of Magnitude  Lowest Dip  \\\n",
       "0                         0.076778   13.277183   \n",
       "\n",
       "   Difference of average and lowest dip  Time of Lowest Dip  Peaks per time  \n",
       "0                              0.241095        2.459688e+06             0.0  "
      ]
     },
     "execution_count": 5,
     "metadata": {},
     "output_type": "execute_result"
    }
   ],
   "source": [
    "Peaknum = find_dipDF(asasnum, guide='Updated_LC_data')\n",
    "Peaknum"
   ]
  },
  {
   "cell_type": "code",
   "execution_count": 6,
   "metadata": {},
   "outputs": [
    {
     "data": {
      "text/html": [
       "<div>\n",
       "<style scoped>\n",
       "    .dataframe tbody tr th:only-of-type {\n",
       "        vertical-align: middle;\n",
       "    }\n",
       "\n",
       "    .dataframe tbody tr th {\n",
       "        vertical-align: top;\n",
       "    }\n",
       "\n",
       "    .dataframe thead th {\n",
       "        text-align: right;\n",
       "    }\n",
       "</style>\n",
       "<table border=\"1\" class=\"dataframe\">\n",
       "  <thead>\n",
       "    <tr style=\"text-align: right;\">\n",
       "      <th></th>\n",
       "      <th>asas_sn_id</th>\n",
       "      <th>Camera</th>\n",
       "      <th>Average</th>\n",
       "      <th>Median</th>\n",
       "      <th>ST Deviation</th>\n",
       "    </tr>\n",
       "  </thead>\n",
       "  <tbody>\n",
       "    <tr>\n",
       "      <th>0</th>\n",
       "      <td>609886184506</td>\n",
       "      <td>bE</td>\n",
       "      <td>13.036711</td>\n",
       "      <td>13.043445</td>\n",
       "      <td>0.078111</td>\n",
       "    </tr>\n",
       "    <tr>\n",
       "      <th>1</th>\n",
       "      <td>609886184506</td>\n",
       "      <td>bF</td>\n",
       "      <td>13.035480</td>\n",
       "      <td>13.046034</td>\n",
       "      <td>0.074753</td>\n",
       "    </tr>\n",
       "    <tr>\n",
       "      <th>2</th>\n",
       "      <td>609886184506</td>\n",
       "      <td>bi</td>\n",
       "      <td>13.036762</td>\n",
       "      <td>13.036620</td>\n",
       "      <td>0.078334</td>\n",
       "    </tr>\n",
       "    <tr>\n",
       "      <th>3</th>\n",
       "      <td>609886184506</td>\n",
       "      <td>bj</td>\n",
       "      <td>13.037996</td>\n",
       "      <td>13.051039</td>\n",
       "      <td>0.073682</td>\n",
       "    </tr>\n",
       "    <tr>\n",
       "      <th>4</th>\n",
       "      <td>609886184506</td>\n",
       "      <td>bm</td>\n",
       "      <td>13.034745</td>\n",
       "      <td>13.038982</td>\n",
       "      <td>0.077393</td>\n",
       "    </tr>\n",
       "    <tr>\n",
       "      <th>5</th>\n",
       "      <td>609886184506</td>\n",
       "      <td>bn</td>\n",
       "      <td>13.031721</td>\n",
       "      <td>13.033055</td>\n",
       "      <td>0.079834</td>\n",
       "    </tr>\n",
       "  </tbody>\n",
       "</table>\n",
       "</div>"
      ],
      "text/plain": [
       "     asas_sn_id Camera    Average     Median  ST Deviation\n",
       "0  609886184506     bE  13.036711  13.043445      0.078111\n",
       "1  609886184506     bF  13.035480  13.046034      0.074753\n",
       "2  609886184506     bi  13.036762  13.036620      0.078334\n",
       "3  609886184506     bj  13.037996  13.051039      0.073682\n",
       "4  609886184506     bm  13.034745  13.038982      0.077393\n",
       "5  609886184506     bn  13.031721  13.033055      0.079834"
      ]
     },
     "execution_count": 6,
     "metadata": {},
     "output_type": "execute_result"
    }
   ],
   "source": [
    "result = camparam(asasnum, guide='Updated_LC_data')\n",
    "result"
   ]
  },
  {
   "cell_type": "code",
   "execution_count": 7,
   "metadata": {},
   "outputs": [
    {
     "data": {
      "text/html": [
       "<div>\n",
       "<style scoped>\n",
       "    .dataframe tbody tr th:only-of-type {\n",
       "        vertical-align: middle;\n",
       "    }\n",
       "\n",
       "    .dataframe tbody tr th {\n",
       "        vertical-align: top;\n",
       "    }\n",
       "\n",
       "    .dataframe thead th {\n",
       "        text-align: right;\n",
       "    }\n",
       "</style>\n",
       "<table border=\"1\" class=\"dataframe\">\n",
       "  <thead>\n",
       "    <tr style=\"text-align: right;\">\n",
       "      <th></th>\n",
       "      <th>asas_sn_id</th>\n",
       "      <th>Number of dips</th>\n",
       "      <th>Average Magnitude</th>\n",
       "      <th>Standard Deviation of Magnitude</th>\n",
       "      <th>Lowest Dip</th>\n",
       "      <th>Difference of average and lowest dip</th>\n",
       "      <th>Time of Lowest Dip</th>\n",
       "      <th>Peaks per time</th>\n",
       "    </tr>\n",
       "  </thead>\n",
       "  <tbody>\n",
       "  </tbody>\n",
       "</table>\n",
       "</div>"
      ],
      "text/plain": [
       "Empty DataFrame\n",
       "Columns: [asas_sn_id, Number of dips, Average Magnitude, Standard Deviation of Magnitude, Lowest Dip, Difference of average and lowest dip, Time of Lowest Dip, Peaks per time]\n",
       "Index: []"
      ]
     },
     "execution_count": 7,
     "metadata": {},
     "output_type": "execute_result"
    }
   ],
   "source": [
    "filt = box(asasnum, guide='Updated_LC_data')\n",
    "filt"
   ]
  },
  {
   "cell_type": "code",
   "execution_count": 8,
   "metadata": {},
   "outputs": [
    {
     "data": {
      "text/html": [
       "<div>\n",
       "<style scoped>\n",
       "    .dataframe tbody tr th:only-of-type {\n",
       "        vertical-align: middle;\n",
       "    }\n",
       "\n",
       "    .dataframe tbody tr th {\n",
       "        vertical-align: top;\n",
       "    }\n",
       "\n",
       "    .dataframe thead th {\n",
       "        text-align: right;\n",
       "    }\n",
       "</style>\n",
       "<table border=\"1\" class=\"dataframe\">\n",
       "  <thead>\n",
       "    <tr style=\"text-align: right;\">\n",
       "      <th></th>\n",
       "      <th>asas_sn_id</th>\n",
       "      <th>Number of dips</th>\n",
       "      <th>Average Magnitude</th>\n",
       "      <th>Standard Deviation of Magnitude</th>\n",
       "      <th>Lowest Dip</th>\n",
       "      <th>Difference of average and lowest dip</th>\n",
       "      <th>Time of Lowest Dip</th>\n",
       "      <th>Peaks per time</th>\n",
       "    </tr>\n",
       "  </thead>\n",
       "  <tbody>\n",
       "    <tr>\n",
       "      <th>0</th>\n",
       "      <td>609886184506</td>\n",
       "      <td>0</td>\n",
       "      <td>13.036088</td>\n",
       "      <td>0.076778</td>\n",
       "      <td>13.277183</td>\n",
       "      <td>0.241095</td>\n",
       "      <td>2.459688e+06</td>\n",
       "      <td>0.0</td>\n",
       "    </tr>\n",
       "  </tbody>\n",
       "</table>\n",
       "</div>"
      ],
      "text/plain": [
       "     asas_sn_id  Number of dips  Average Magnitude  \\\n",
       "0  609886184506               0          13.036088   \n",
       "\n",
       "   Standard Deviation of Magnitude  Lowest Dip  \\\n",
       "0                         0.076778   13.277183   \n",
       "\n",
       "   Difference of average and lowest dip  Time of Lowest Dip  Peaks per time  \n",
       "0                              0.241095        2.459688e+06             0.0  "
      ]
     },
     "execution_count": 8,
     "metadata": {},
     "output_type": "execute_result"
    }
   ],
   "source": [
    "camfilter(asasnum, guide='Updated_LC_data')"
   ]
  },
  {
   "cell_type": "code",
   "execution_count": null,
   "metadata": {},
   "outputs": [],
   "source": [
    "camfilter2(asasnum, guide='Updated_LC_data')"
   ]
  },
  {
   "cell_type": "code",
   "execution_count": null,
   "metadata": {},
   "outputs": [],
   "source": [
    "plot_dip(asasnum, guide='Updated_LC_data')\n"
   ]
  },
  {
   "cell_type": "code",
   "execution_count": null,
   "metadata": {},
   "outputs": [],
   "source": [
    "#plot_zoom(377957919895, guide='SURP2024/Test_Data/brayden_test_data/')"
   ]
  },
  {
   "cell_type": "code",
   "execution_count": null,
   "metadata": {},
   "outputs": [],
   "source": [
    "#t, df = period(377957919895, 6, guide='SURP2024/Test_Data/brayden_test_data/')\n",
    "#print(t)\n",
    "#df"
   ]
  },
  {
   "cell_type": "code",
   "execution_count": null,
   "metadata": {},
   "outputs": [],
   "source": [
    "#phase(377957919895, 6, guide='SURP2024/Test_Data/brayden_test_data/')"
   ]
  }
 ],
 "metadata": {
  "kernelspec": {
   "display_name": "base",
   "language": "python",
   "name": "python3"
  },
  "language_info": {
   "codemirror_mode": {
    "name": "ipython",
    "version": 3
   },
   "file_extension": ".py",
   "mimetype": "text/x-python",
   "name": "python",
   "nbconvert_exporter": "python",
   "pygments_lexer": "ipython3",
   "version": "3.11.8"
  }
 },
 "nbformat": 4,
 "nbformat_minor": 2
}
