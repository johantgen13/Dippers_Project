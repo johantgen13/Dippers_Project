{
 "cells": [
  {
   "cell_type": "code",
   "execution_count": 1,
   "metadata": {},
   "outputs": [],
   "source": [
    "import math\n",
    "import astropy"
   ]
  },
  {
   "cell_type": "code",
   "execution_count": 2,
   "metadata": {},
   "outputs": [],
   "source": [
    "def mass_estimate(rv, p):\n",
    "    ''' \n",
    "    mass in solar masses\n",
    "    rv in km/s\n",
    "    period in days\n",
    "    '''\n",
    "    mass = ((rv*(p**(1/3)))/213)**3\n",
    "    return mass"
   ]
  },
  {
   "cell_type": "code",
   "execution_count": 10,
   "metadata": {},
   "outputs": [
    {
     "name": "stdout",
     "output_type": "stream",
     "text": [
      "J005437+644347 has a mass of 186.72565132355456 solar masses\n"
     ]
    }
   ],
   "source": [
    "#J005437$+$644347\n",
    "print('J005437+644347 has a mass of', mass_estimate((48.78/math.sin(0.373)), 752.3), 'solar masses')"
   ]
  },
  {
   "cell_type": "code",
   "execution_count": 4,
   "metadata": {},
   "outputs": [
    {
     "name": "stdout",
     "output_type": "stream",
     "text": [
      "J181752-580749 has a mass of 0.001034475404220602 solar masses\n"
     ]
    }
   ],
   "source": [
    "#J181752$-$580749\n",
    "print('J181752-580749 has a mass of', mass_estimate(1.32, (11.9*365.25)), 'solar masses')"
   ]
  },
  {
   "cell_type": "code",
   "execution_count": 11,
   "metadata": {},
   "outputs": [
    {
     "name": "stdout",
     "output_type": "stream",
     "text": [
      "J005255+633515 has a mass of 1.9095528420473245 solar masses\n"
     ]
    }
   ],
   "source": [
    "#J005255+633515\n",
    "print('J005255+633515 has a mass of', mass_estimate(26.55, 986), 'solar masses')"
   ]
  },
  {
   "cell_type": "code",
   "execution_count": 6,
   "metadata": {},
   "outputs": [
    {
     "name": "stdout",
     "output_type": "stream",
     "text": [
      "J124745-622756 has a mass of 18.756484226859207 solar masses\n"
     ]
    }
   ],
   "source": [
    "#J124745-622756\n",
    "print('J124745-622756 has a mass of', mass_estimate(54.89, 1096), 'solar masses')"
   ]
  },
  {
   "cell_type": "code",
   "execution_count": 7,
   "metadata": {},
   "outputs": [
    {
     "name": "stdout",
     "output_type": "stream",
     "text": [
      "J160757-574540 has a mass of 5.255706981767759 solar masses\n"
     ]
    }
   ],
   "source": [
    "#J160757-574540\n",
    "print('J160757-574540 has a mass of', mass_estimate(36.67, 1030), 'solar masses')"
   ]
  },
  {
   "cell_type": "code",
   "execution_count": 8,
   "metadata": {},
   "outputs": [
    {
     "name": "stdout",
     "output_type": "stream",
     "text": [
      "J175912-120956 has a mass of 330.36051990434277 solar masses\n"
     ]
    }
   ],
   "source": [
    "#J175912-120956\n",
    "print('J175912-120956 has a mass of', mass_estimate(204.92, 371), 'solar masses')"
   ]
  }
 ],
 "metadata": {
  "kernelspec": {
   "display_name": "base",
   "language": "python",
   "name": "python3"
  },
  "language_info": {
   "codemirror_mode": {
    "name": "ipython",
    "version": 3
   },
   "file_extension": ".py",
   "mimetype": "text/x-python",
   "name": "python",
   "nbconvert_exporter": "python",
   "pygments_lexer": "ipython3",
   "version": "3.11.8"
  }
 },
 "nbformat": 4,
 "nbformat_minor": 2
}
